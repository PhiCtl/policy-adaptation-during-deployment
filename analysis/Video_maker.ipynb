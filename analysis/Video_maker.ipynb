{
 "cells": [
  {
   "cell_type": "code",
   "execution_count": 3,
   "id": "035a4162-c95a-4277-8e06-a8fc34adca82",
   "metadata": {},
   "outputs": [],
   "source": [
    "import pandas as pd\n",
    "import matplotlib.animation as animation\n",
    "from matplotlib.animation import FuncAnimation, PillowWriter\n",
    "import matplotlib.pyplot as plt\n",
    "import numpy as np\n",
    "import cv2\n",
    "\n",
    "from IPython.display import HTML"
   ]
  },
  {
   "cell_type": "code",
   "execution_count": 4,
   "id": "3176eba1-ed24-4747-8088-5692a017869d",
   "metadata": {},
   "outputs": [],
   "source": [
    "# Names of the one-run files : \n",
    "eval_data = \"performance_one-run-avg_color_hard_eval.csv\"\n",
    "pad_data = \"performance_one-run-avg_color_hard_pad.csv\"\n",
    "\n",
    "# Name of the experiment videos\n",
    "pad_video = \"color_hard_pad_0_avg\"\n",
    "eval_video = \"color_hard_eval_0_avg\""
   ]
  },
  {
   "cell_type": "code",
   "execution_count": 5,
   "id": "b29a19bc-9d2c-40cc-a054-516f9fcafc95",
   "metadata": {},
   "outputs": [],
   "source": [
    "df_eval = pd.read_csv(eval_data, index_col=0)\n",
    "df_pad = pd.read_csv(pad_data, index_col=0)"
   ]
  },
  {
   "cell_type": "code",
   "execution_count": 6,
   "id": "4b062f78-6c51-4fd2-9b5c-d8c978a62580",
   "metadata": {},
   "outputs": [],
   "source": [
    "# Compute cumsum\n",
    "df_eval['episode_0_cumul'] = df_eval['episode_0_reward'].cumsum()\n",
    "df_pad['episode_0_cumul'] = df_pad['episode_0_reward'].cumsum()"
   ]
  },
  {
   "cell_type": "code",
   "execution_count": 92,
   "id": "278c3966-0244-4ac9-a635-71daf60574ad",
   "metadata": {},
   "outputs": [],
   "source": [
    "def create_single_graph(dfs, names, out, mode=\"cumul\", interval = 25 / 600 * 1000) :\n",
    "    \"\"\"\n",
    "    Compute a reward graph \n",
    "    Args : - dfs : a list of dataframes of same length from which we want to plot the reward, \n",
    "           - names : name of each dataframe\n",
    "           - out : graph video name (don't forget extension .mp4)\n",
    "           - mode : either reward (plot avg or current reward) or cumulative reward\n",
    "           - interval : speed at which each frame is displayed\n",
    "    \"\"\"\n",
    "    \n",
    "    # Number of frames\n",
    "    frames = dfs[0].shape[0]\n",
    "    # Video writer\n",
    "    metadata = dict(title='Wav Spectrogram', artist='Matplotlib', comment='')\n",
    "    writer = animation.FFMpegWriter(fps=60, metadata=metadata, bitrate=3500)\n",
    "    \n",
    "    # Data\n",
    "    data = [df[\"episode_0_\"+mode] for df in dfs]\n",
    "    # Max yscale for plotting\n",
    "    max_y = max([df.max() for df in data])\n",
    "    \n",
    "    # Global values for plotting\n",
    "    x, ys = [], { i : [] for i in range(len(dfs))}\n",
    "    fig, ax = plt.subplots()\n",
    "    \n",
    "    # Callback function\n",
    "    def animate(i):\n",
    "        \n",
    "        # At step i add one point per df\n",
    "        pts = []\n",
    "        for df in data :\n",
    "            pts.append(df[i])\n",
    "        x.append(i)\n",
    "        \n",
    "        # Append to global list \n",
    "        for y, pt in zip(ys.values(), pts) :\n",
    "            y.append(pt)\n",
    "\n",
    "        ax.clear()\n",
    "        \n",
    "        # Plot sequence so far\n",
    "        for y, n in zip(ys.values(), names) : \n",
    "            ax.plot(x, y, label=n)\n",
    "        \n",
    "        # Set limits\n",
    "        ax.set_xlim([0,frames])\n",
    "        ax.set_ylim([0, max_y])\n",
    "        ax.legend()\n",
    "    \n",
    "    # Build graph and save it\n",
    "    dyn_graph = animation.FuncAnimation(fig, animate, frames = frames, interval = interval, repeat = False)\n",
    "    dyn_graph.save(out, writer = writer)"
   ]
  },
  {
   "cell_type": "code",
   "execution_count": 93,
   "id": "1689ab30-7571-4b8c-9c7d-caac27cc6fdd",
   "metadata": {},
   "outputs": [],
   "source": [
    "create_single_graph([df_pad, df_eval], ['pad', 'eval'], \"cumul_test.mp4\")"
   ]
  },
  {
   "cell_type": "code",
   "execution_count": 79,
   "id": "24cc4952-3d5e-4eed-b366-e8bb2f3435e3",
   "metadata": {},
   "outputs": [],
   "source": [
    "def merge_videos(names) :\n",
    "    \n",
    "    \"\"\"\n",
    "    Merge experiment and graphs videos\n",
    "    Args : - names : ordered list of video files names\n",
    "    \"\"\"\n",
    "    \n",
    "    # Initialize reader\n",
    "    cap = [cv2.VideoCapture(i) for i in names]\n",
    "    frames = [None] * len(names); # current frames\n",
    "    ret = np.full(len(names), True) # Whether video has ended or not\n",
    "    imgs = [None] * len(names) # current full image\n",
    "    \n",
    "    \n",
    "    # Video writer\n",
    "    out = None \n",
    "    fourcc = cv2.VideoWriter_fourcc(*'XVID')\n",
    "\n",
    "    # While we can read from every video file\n",
    "    while ret.all():\n",
    "\n",
    "        # We read one frame from each video file\n",
    "        for i,c in enumerate(cap):\n",
    "            if c is not None:\n",
    "                ret[i], frames[i] = c.read();\n",
    "                \n",
    "                # We reshape to fit to final video\n",
    "                if ret[i] : \n",
    "                    h, w, c = frames[i].shape\n",
    "                    if h != 448 :\n",
    "                        frames[i] = cv2.resize(frames[i], (int(w * 448 / h), 448) )\n",
    "\n",
    "        # We convert to RGB for convenienve\n",
    "        for i,f in enumerate(frames):\n",
    "            if ret[i]:\n",
    "                imgs[i] = cv2.cvtColor(f, cv2.COLOR_BGR2RGB)\n",
    "        \n",
    "        # We concatenate horizontally\n",
    "        imgs_h = cv2.hconcat(imgs)\n",
    "        if out == None :\n",
    "            out = cv2.VideoWriter('output_cum.mp4', fourcc, 20, (imgs_h.shape[1], imgs_h.shape[0]))\n",
    "        out.write(imgs_h)\n",
    "\n",
    "        if cv2.waitKey(1) & 0xFF == ord('q'):\n",
    "            break\n",
    "\n",
    "    # We close the readers / writers\n",
    "    for c in cap:\n",
    "        if c is not None:\n",
    "            c.release()\n",
    "\n",
    "    out.release()\n",
    "    \n",
    "    "
   ]
  },
  {
   "cell_type": "code",
   "execution_count": 66,
   "id": "8fe08acd-e9fd-4058-989d-ed87ba25ff45",
   "metadata": {},
   "outputs": [],
   "source": [
    "merge_videos([\"color_hard_pad_0_avg.mp4\", \"color_hard_eval_0_avg.mp4\", \"cumul.mp4\"])"
   ]
  },
  {
   "cell_type": "code",
   "execution_count": null,
   "id": "38b8d654-0b0c-4f01-b29b-6c1a8b5bab21",
   "metadata": {},
   "outputs": [],
   "source": []
  }
 ],
 "metadata": {
  "kernelspec": {
   "display_name": "Python 3",
   "language": "python",
   "name": "python3"
  },
  "language_info": {
   "codemirror_mode": {
    "name": "ipython",
    "version": 3
   },
   "file_extension": ".py",
   "mimetype": "text/x-python",
   "name": "python",
   "nbconvert_exporter": "python",
   "pygments_lexer": "ipython3",
   "version": "3.8.8"
  }
 },
 "nbformat": 4,
 "nbformat_minor": 5
}

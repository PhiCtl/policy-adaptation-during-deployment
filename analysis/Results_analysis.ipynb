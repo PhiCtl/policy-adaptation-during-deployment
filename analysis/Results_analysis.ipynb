{
 "cells": [
  {
   "cell_type": "markdown",
   "id": "49e53da9-b73e-4f93-8f0b-1d4d5aca2a1d",
   "metadata": {},
   "source": [
    "# Functions and imports"
   ]
  },
  {
   "cell_type": "code",
   "execution_count": 2,
   "id": "6484645a-efc7-4226-845a-2d637f60655b",
   "metadata": {
    "tags": []
   },
   "outputs": [],
   "source": [
    "import pandas as pd\n",
    "import numpy as np\n",
    "from random import randint\n",
    "from matplotlib import pyplot as plt\n",
    "from matplotlib.animation import FuncAnimation\n",
    "from IPython.display import HTML\n",
    "\n",
    "import os\n",
    "from scipy.ndimage import convolve1d"
   ]
  },
  {
   "cell_type": "code",
   "execution_count": 3,
   "id": "bea8cfb5-0deb-4739-953a-902e26a7d17f",
   "metadata": {},
   "outputs": [],
   "source": [
    "# Name of the files\n",
    "eval_dep = \"performance_dep_color_hard_eval.csv\"\n",
    "pad_dep = \"performance_dep_color_hard_pad.csv\"\n",
    "eval_sust = \"performance_dep-longer_color_hard_eval.csv\"\n",
    "pad_sust = \"performance_dep-longer_color_hard_pad.csv\"\n",
    "eval_pos = \"performance_pos_steady_eval.csv\"\n",
    "pad_pos = \"performance_pos_steady_pad.csv\"\n",
    "eval_pos_run = \"performance_one-run-pos_steady_eval.csv\"\n",
    "pad_pos_run = \"performance_one-run-pos_steady_pad.csv\"\n",
    "eval_avg_run = \"performance_one-run-avg_color_hard_eval.csv\"\n",
    "pad_avg_run = \"performance_one-run-avg_color_hard_pad.csv\"\n",
    "eval_pos_color = \"performance_pos-color-03_color_hard_eval.csv\"\n",
    "pad_pos_color = \"performance_pos-color-03_color_hard_pad.csv\"\n",
    "eval_avg_color = \"performance_dep-color_color_hard_eval.csv\"\n",
    "pad_avg_color = \"performance_dep-color_color_hard_pad.csv\""
   ]
  },
  {
   "cell_type": "code",
   "execution_count": 4,
   "id": "d29753c2-4886-48a4-a592-d414e8950154",
   "metadata": {},
   "outputs": [],
   "source": [
    "def moving_average_reward(rewards, current_ep=None, wind_lgth=3):\n",
    "    \"\"\"Compute non causal moving average with a filter of length wind_length + 2\"\"\"\n",
    "    w = np.concatenate((np.zeros(wind_lgth -3), np.ones(wind_lgth+2))).astype(np.float64) / (wind_lgth+2)\n",
    "    avg = convolve1d(rewards, w, mode='nearest')\n",
    "    if current_ep is None:\n",
    "        # Return full averaged array\n",
    "        return avg\n",
    "    else:\n",
    "        # Return average at current time step\n",
    "        assert current_ep >= 0\n",
    "        return avg[current_ep]"
   ]
  },
  {
   "cell_type": "code",
   "execution_count": 5,
   "id": "debfc2e1-98a4-4ded-90eb-4e04c5ab4ed7",
   "metadata": {},
   "outputs": [],
   "source": [
    "def compute_speed(avg_reward, max_speed, coef = 1/10, max_reward=8):\n",
    "    return (max_speed * np.exp(coef * (avg_reward  - max_reward))).astype(int)"
   ]
  },
  {
   "cell_type": "code",
   "execution_count": 6,
   "id": "e3d7bf92-656a-4db5-ae06-abf7f89744c5",
   "metadata": {},
   "outputs": [],
   "source": [
    "def plot_single(reward, chg, change_type, threshold) :\n",
    "    \n",
    "    \"\"\"Plot single run\n",
    "    Args : - reward : pandas sequence of reward\n",
    "           - chg : pandas sequence of change (to be defined) of same length as reward\n",
    "           - change_type : str\n",
    "           - threshold : at which we made a change\"\"\"\n",
    "    \n",
    "    avg_reward = moving_average_reward(reward.values)\n",
    "    fig, axes = plt.subplots(3,1, figsize = (20,15))\n",
    "    axes[0].plot(reward)\n",
    "    axes[0].set_ylabel(\"Reward\")\n",
    "    axes[1].plot(avg_reward)\n",
    "    axes[1].axhline(y = threshold, color = 'green')\n",
    "    axes[1].set_ylabel(\"Average reward\")\n",
    "    axes[2].plot(chg)\n",
    "    axes[2].set_ylabel(change_type)\n",
    "    \n",
    "    fig.suptitle(\"Episode analysis\")\n",
    "    fig.supxlabel(\"Timesteps\")\n",
    "    plt.show()"
   ]
  },
  {
   "cell_type": "code",
   "execution_count": 7,
   "id": "606661dc-6942-42b9-9c65-4b4424548e6f",
   "metadata": {},
   "outputs": [],
   "source": [
    "def make_statistics(df, name, change, threshold) :\n",
    "    \n",
    "    \"\"\"Plot statistics across several episodes\n",
    "    Args : - df : full data set with columns like ['episode_0_reward', 'episode_1_reward', ... 'episode_0_<change>', 'episode_1_<change>', ...]\n",
    "           - name : str for description\n",
    "           - change : either 'color_hard', 'video_i' (i in 0-9), 'color_easy', 'steady'\n",
    "           - threshold : at which we introduced a change\"\"\"\n",
    "    \n",
    "    print(\"-\"*60)\n",
    "    print(\"For {}\".format(name))\n",
    "    \n",
    "    df_change = df[[col for col in df.columns if col.endswith(change)]]\n",
    "    df_reward = df[[col for col in df.columns if col.endswith('reward')]]\n",
    "    avg_reward = df_reward.apply(moving_average_reward, axis = 0)\n",
    "    \n",
    "    mean = df_reward.sum(axis = 0).mean()\n",
    "    std = df_reward.sum(axis = 0).std()\n",
    "    print(\"Mean cumulative reward : {} +/- {}\".format(mean, std))\n",
    "    \n",
    "    mean = df_change.iloc[-1,:].mean()\n",
    "    std = df_change.iloc[-1,:].std()\n",
    "    print(\"Mean {} : {} +/- {}\".format(change, mean, std))\n",
    "    \n",
    "    means_avg = avg_reward.mean(axis = 1)\n",
    "    stds_avg = avg_reward.std(axis = 1)\n",
    "    diff_avg = 1.96 * stds_avg / np.sqrt(len(means_avg))\n",
    "    means_ch = df_change.mean(axis = 1)\n",
    "    stds_ch = df_change.std(axis = 1)\n",
    "    diff_ch = 1.96 * stds_ch / np.sqrt(len(means_ch))\n",
    "    \n",
    "    fig, axes = plt.subplots(2,1, figsize = (20,15))\n",
    "    \n",
    "    # Plot avg smoothed reward\n",
    "    axes[0].plot(means_avg)\n",
    "    axes[0].fill_between(range(len(means_avg)), \n",
    "                        means_avg - diff_avg, \n",
    "                        means_avg + diff_avg,\n",
    "                        color='gray', \n",
    "                        alpha=0.2)\n",
    "    axes[0].axhline(y = threshold, color = 'green')        \n",
    "    axes[0].set_ylabel(\"Average reward\")\n",
    "    \n",
    "    # Plot avg change\n",
    "    axes[1].plot(means_ch)\n",
    "    axes[1].fill_between(range(len(means_ch)), \n",
    "                        means_ch - diff_ch, \n",
    "                        means_ch + diff_ch,\n",
    "                        color='gray', \n",
    "                        alpha=0.2)        \n",
    "    axes[1].set_ylabel(\"Average {}\".format(change))\n",
    "    \n",
    "    fig.supxlabel(\"Time steps\")\n",
    "    fig.suptitle(\"Analysis for {}\".format(name))\n",
    "    plt.show()\n",
    "    "
   ]
  }
 ],
 "metadata": {
  "kernelspec": {
   "display_name": "Python 3",
   "language": "python",
   "name": "python3"
  },
  "language_info": {
   "codemirror_mode": {
    "name": "ipython",
    "version": 3
   },
   "file_extension": ".py",
   "mimetype": "text/x-python",
   "name": "python",
   "nbconvert_exporter": "python",
   "pygments_lexer": "ipython3",
   "version": "3.8.8"
  }
 },
 "nbformat": 4,
 "nbformat_minor": 5
}
